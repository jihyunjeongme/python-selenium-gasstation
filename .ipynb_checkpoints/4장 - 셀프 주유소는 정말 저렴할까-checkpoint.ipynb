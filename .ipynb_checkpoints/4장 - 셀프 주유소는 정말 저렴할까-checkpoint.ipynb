{
 "cells": [
  {
   "cell_type": "code",
   "execution_count": 1,
   "metadata": {},
   "outputs": [],
   "source": [
    "from selenium import webdriver"
   ]
  },
  {
   "cell_type": "code",
   "execution_count": 4,
   "metadata": {},
   "outputs": [],
   "source": [
    "driver = webdriver.Chrome('./chromedriver_74')\n",
    "driver.get(\"http://naver.com\")"
   ]
  },
  {
   "cell_type": "code",
   "execution_count": 7,
   "metadata": {},
   "outputs": [
    {
     "data": {
      "text/plain": [
       "True"
      ]
     },
     "execution_count": 7,
     "metadata": {},
     "output_type": "execute_result"
    }
   ],
   "source": [
    "driver.save_screenshot('./001.png')"
   ]
  },
  {
   "cell_type": "code",
   "execution_count": 8,
   "metadata": {},
   "outputs": [],
   "source": [
    "driver.close()"
   ]
  },
  {
   "cell_type": "code",
   "execution_count": null,
   "metadata": {},
   "outputs": [],
   "source": [
    "# 4-2 서울시 구별 주유소 가격 정보 얻기"
   ]
  },
  {
   "cell_type": "code",
   "execution_count": 11,
   "metadata": {},
   "outputs": [],
   "source": [
    "from selenium import webdriver\n",
    "\n",
    "driver = webdriver.Chrome('./chromedriver_74')\n",
    "driver.get(\"https://goo.gl/VH1A5t\")"
   ]
  },
  {
   "cell_type": "code",
   "execution_count": 12,
   "metadata": {},
   "outputs": [],
   "source": [
    "# XPATH를 이용해서 element를 찾고 gu_list_raw 변수에 저장\n",
    "# 구 리스트는 find_elements_by_tage_name으로 option이라는 태그로 찾음\n",
    "\n",
    "gu_list_raw = driver.find_element_by_xpath(\"\"\"//*[@id=\"SIGUNGU_NM0\"]\"\"\")\n",
    "gu_list = gu_list_raw.find_elements_by_tag_name(\"option\")"
   ]
  },
  {
   "cell_type": "code",
   "execution_count": 19,
   "metadata": {},
   "outputs": [
    {
     "data": {
      "text/plain": [
       "['강남구',\n",
       " '강동구',\n",
       " '강북구',\n",
       " '강서구',\n",
       " '관악구',\n",
       " '광진구',\n",
       " '구로구',\n",
       " '금천구',\n",
       " '노원구',\n",
       " '도봉구',\n",
       " '동대문구',\n",
       " '동작구',\n",
       " '마포구',\n",
       " '서대문구',\n",
       " '서초구',\n",
       " '성동구',\n",
       " '성북구',\n",
       " '송파구',\n",
       " '양천구',\n",
       " '영등포구',\n",
       " '용산구',\n",
       " '은평구',\n",
       " '종로구',\n",
       " '중구',\n",
       " '중랑구']"
      ]
     },
     "execution_count": 19,
     "metadata": {},
     "output_type": "execute_result"
    }
   ],
   "source": [
    "gu_names = [option.get_attribute(\"value\") for option in gu_list]\n",
    "gu_names.remove('')\n",
    "gu_names"
   ]
  },
  {
   "cell_type": "code",
   "execution_count": 27,
   "metadata": {},
   "outputs": [],
   "source": [
    "element = driver.find_element_by_id(\"SIGUNGU_NM0\")\n",
    "element.send_keys(gu_names[0])"
   ]
  },
  {
   "cell_type": "code",
   "execution_count": 28,
   "metadata": {},
   "outputs": [],
   "source": [
    "xpath = \"\"\"//*[@id=\"searRgSelect\"]/span\"\"\"\n",
    "element_sel_gu = driver.find_element_by_xpath(xpath).click()"
   ]
  },
  {
   "cell_type": "code",
   "execution_count": 29,
   "metadata": {},
   "outputs": [],
   "source": [
    "# 엑셀로 지역_위치별(주유소)저장\n",
    "xpath = \"\"\"//*[@id=\"glopopd_excel\"]\"\"\"\n",
    "element_sel_gu = driver.find_element_by_xpath(xpath).click()"
   ]
  },
  {
   "cell_type": "code",
   "execution_count": 38,
   "metadata": {},
   "outputs": [
    {
     "data": {
      "application/vnd.jupyter.widget-view+json": {
       "model_id": "2e2b0d1e447c4c73b13718d0ee7a9f05",
       "version_major": 2,
       "version_minor": 0
      },
      "text/plain": [
       "HBox(children=(IntProgress(value=0, max=25), HTML(value='')))"
      ]
     },
     "metadata": {},
     "output_type": "display_data"
    },
    {
     "name": "stdout",
     "output_type": "stream",
     "text": [
      "\n"
     ]
    }
   ],
   "source": [
    "# !pip install tqdm\n",
    "\n",
    "import time\n",
    "from tqdm import tqdm_notebook\n",
    "\n",
    "for gu in tqdm_notebook(gu_names):\n",
    "    element = driver.find_element_by_id(\"SIGUNGU_NM0\")\n",
    "    element.send_keys(gu)\n",
    "    \n",
    "    time.sleep(2)\n",
    "    \n",
    "    # 엑셀로 지역_위치별(주유소)저장\n",
    "    xpath = \"\"\"//*[@id=\"glopopd_excel\"]\"\"\"\n",
    "    element_sel_gu = driver.find_element_by_xpath(xpath).click()\n",
    "    \n",
    "    time.sleep(1)    "
   ]
  },
  {
   "cell_type": "code",
   "execution_count": 40,
   "metadata": {},
   "outputs": [],
   "source": [
    "# 4-3 구별 주유 가격에 대한 데이터의 정리\n",
    "\n",
    "import pandas as pd\n",
    "from glob import glob"
   ]
  },
  {
   "cell_type": "code",
   "execution_count": 41,
   "metadata": {},
   "outputs": [
    {
     "data": {
      "text/plain": [
       "['./data/지역_위치별(주유소) (9).xls',\n",
       " './data/지역_위치별(주유소) (12).xls',\n",
       " './data/지역_위치별(주유소) (5).xls',\n",
       " './data/지역_위치별(주유소) (24).xls',\n",
       " './data/지역_위치별(주유소) (4).xls',\n",
       " './data/지역_위치별(주유소) (13).xls',\n",
       " './data/지역_위치별(주유소) (8).xls',\n",
       " './data/지역_위치별(주유소) (3).xls',\n",
       " './data/지역_위치별(주유소) (18).xls',\n",
       " './data/지역_위치별(주유소) (22).xls',\n",
       " './data/지역_위치별(주유소) (14).xls',\n",
       " './data/지역_위치별(주유소) (15).xls',\n",
       " './data/지역_위치별(주유소) (23).xls',\n",
       " './data/지역_위치별(주유소) (19).xls',\n",
       " './data/지역_위치별(주유소) (2).xls',\n",
       " './data/지역_위치별(주유소) (20).xls',\n",
       " './data/지역_위치별(주유소) (1).xls',\n",
       " './data/지역_위치별(주유소) (16).xls',\n",
       " './data/지역_위치별(주유소) (17).xls',\n",
       " './data/지역_위치별(주유소) (21).xls',\n",
       " './data/지역_위치별(주유소) (10).xls',\n",
       " './data/지역_위치별(주유소).xls',\n",
       " './data/지역_위치별(주유소) (7).xls',\n",
       " './data/지역_위치별(주유소) (6).xls',\n",
       " './data/지역_위치별(주유소) (11).xls']"
      ]
     },
     "execution_count": 41,
     "metadata": {},
     "output_type": "execute_result"
    }
   ],
   "source": [
    "glob('./data/지역*.xls')"
   ]
  },
  {
   "cell_type": "code",
   "execution_count": 43,
   "metadata": {},
   "outputs": [
    {
     "data": {
      "text/plain": [
       "['./data/지역_위치별(주유소) (9).xls',\n",
       " './data/지역_위치별(주유소) (12).xls',\n",
       " './data/지역_위치별(주유소) (5).xls',\n",
       " './data/지역_위치별(주유소) (24).xls',\n",
       " './data/지역_위치별(주유소) (4).xls',\n",
       " './data/지역_위치별(주유소) (13).xls',\n",
       " './data/지역_위치별(주유소) (8).xls',\n",
       " './data/지역_위치별(주유소) (3).xls',\n",
       " './data/지역_위치별(주유소) (18).xls',\n",
       " './data/지역_위치별(주유소) (22).xls',\n",
       " './data/지역_위치별(주유소) (14).xls',\n",
       " './data/지역_위치별(주유소) (15).xls',\n",
       " './data/지역_위치별(주유소) (23).xls',\n",
       " './data/지역_위치별(주유소) (19).xls',\n",
       " './data/지역_위치별(주유소) (2).xls',\n",
       " './data/지역_위치별(주유소) (20).xls',\n",
       " './data/지역_위치별(주유소) (1).xls',\n",
       " './data/지역_위치별(주유소) (16).xls',\n",
       " './data/지역_위치별(주유소) (17).xls',\n",
       " './data/지역_위치별(주유소) (21).xls',\n",
       " './data/지역_위치별(주유소) (10).xls',\n",
       " './data/지역_위치별(주유소).xls',\n",
       " './data/지역_위치별(주유소) (7).xls',\n",
       " './data/지역_위치별(주유소) (6).xls',\n",
       " './data/지역_위치별(주유소) (11).xls']"
      ]
     },
     "execution_count": 43,
     "metadata": {},
     "output_type": "execute_result"
    }
   ],
   "source": [
    "# station 변수에 각 엑셀파일의 경로와 이름을 리스트로 저장합니다.\n",
    "\n",
    "stations_files = glob('./data/지역*.xls')\n",
    "stations_files"
   ]
  },
  {
   "cell_type": "code",
   "execution_count": 45,
   "metadata": {},
   "outputs": [
    {
     "name": "stdout",
     "output_type": "stream",
     "text": [
      "Collecting xlrd\n",
      "\u001b[?25l  Downloading https://files.pythonhosted.org/packages/b0/16/63576a1a001752e34bf8ea62e367997530dc553b689356b9879339cf45a4/xlrd-1.2.0-py2.py3-none-any.whl (103kB)\n",
      "\u001b[K    100% |████████████████████████████████| 112kB 1.6MB/s ta 0:00:01\n",
      "\u001b[?25hInstalling collected packages: xlrd\n",
      "Successfully installed xlrd-1.2.0\n",
      "\u001b[33mYou are using pip version 19.0.3, however version 19.1.1 is available.\n",
      "You should consider upgrading via the 'pip install --upgrade pip' command.\u001b[0m\n"
     ]
    }
   ],
   "source": [
    "# !pip install xlrd\n",
    "\n",
    "tmp_raw = []\n",
    "\n",
    "# read_excel로 각 파일을 반복문을 이용해서 읽은 후 tmp_raw 변수에 append 시킵니다.\n",
    "# 반복문이 끝나고 나면 concat 명령으로 쉽게 하나로 합칠 수 있습니다.\n",
    "# 방긍금 25개 엑셀 파일을 하나로 합쳤습니다.\n",
    "for file_name in stations_files:\n",
    "    tmp = pd.read_excel(file_name, header=2)\n",
    "    tmp_raw.append(tmp)\n",
    "\n",
    "station_raw = pd.concat(tmp_raw)"
   ]
  },
  {
   "cell_type": "code",
   "execution_count": 46,
   "metadata": {},
   "outputs": [
    {
     "name": "stdout",
     "output_type": "stream",
     "text": [
      "<class 'pandas.core.frame.DataFrame'>\n",
      "Int64Index: 506 entries, 0 to 9\n",
      "Data columns (total 10 columns):\n",
      "지역       506 non-null object\n",
      "상호       506 non-null object\n",
      "주소       506 non-null object\n",
      "상표       506 non-null object\n",
      "전화번호     506 non-null object\n",
      "셀프여부     506 non-null object\n",
      "고급휘발유    506 non-null object\n",
      "휘발유      506 non-null object\n",
      "경유       506 non-null object\n",
      "실내등유     506 non-null object\n",
      "dtypes: object(10)\n",
      "memory usage: 43.5+ KB\n"
     ]
    }
   ],
   "source": [
    "# 총 545개의 주유소 정보가 저장 된것을 확인\n",
    "# 가격정보가 숫자형(int, float)이 아니어서 나중에 처리\n",
    "\n",
    "station_raw.info()"
   ]
  },
  {
   "cell_type": "code",
   "execution_count": 47,
   "metadata": {},
   "outputs": [
    {
     "data": {
      "text/html": [
       "<div>\n",
       "<style scoped>\n",
       "    .dataframe tbody tr th:only-of-type {\n",
       "        vertical-align: middle;\n",
       "    }\n",
       "\n",
       "    .dataframe tbody tr th {\n",
       "        vertical-align: top;\n",
       "    }\n",
       "\n",
       "    .dataframe thead th {\n",
       "        text-align: right;\n",
       "    }\n",
       "</style>\n",
       "<table border=\"1\" class=\"dataframe\">\n",
       "  <thead>\n",
       "    <tr style=\"text-align: right;\">\n",
       "      <th></th>\n",
       "      <th>지역</th>\n",
       "      <th>상호</th>\n",
       "      <th>주소</th>\n",
       "      <th>상표</th>\n",
       "      <th>전화번호</th>\n",
       "      <th>셀프여부</th>\n",
       "      <th>고급휘발유</th>\n",
       "      <th>휘발유</th>\n",
       "      <th>경유</th>\n",
       "      <th>실내등유</th>\n",
       "    </tr>\n",
       "  </thead>\n",
       "  <tbody>\n",
       "    <tr>\n",
       "      <th>0</th>\n",
       "      <td>서울특별시</td>\n",
       "      <td>도봉제일주유소(주)송만에너지</td>\n",
       "      <td>서울특별시 도봉구  도봉로 783 (도봉동)</td>\n",
       "      <td>현대오일뱅크</td>\n",
       "      <td>02-955-5185</td>\n",
       "      <td>N</td>\n",
       "      <td>-</td>\n",
       "      <td>1475</td>\n",
       "      <td>1355</td>\n",
       "      <td>990</td>\n",
       "    </tr>\n",
       "    <tr>\n",
       "      <th>1</th>\n",
       "      <td>서울특별시</td>\n",
       "      <td>삼미북부셀프주유소</td>\n",
       "      <td>서울특별시 도봉구  도봉로 437 (쌍문동)</td>\n",
       "      <td>SK에너지</td>\n",
       "      <td>02-992-5561</td>\n",
       "      <td>Y</td>\n",
       "      <td>-</td>\n",
       "      <td>1476</td>\n",
       "      <td>1350</td>\n",
       "      <td>1000</td>\n",
       "    </tr>\n",
       "    <tr>\n",
       "      <th>2</th>\n",
       "      <td>서울특별시</td>\n",
       "      <td>지에스칼텍스㈜ 도봉주유소</td>\n",
       "      <td>서울 도봉구 도봉로 895 (도봉동)</td>\n",
       "      <td>GS칼텍스</td>\n",
       "      <td>02-954-0118</td>\n",
       "      <td>Y</td>\n",
       "      <td>1720</td>\n",
       "      <td>1479</td>\n",
       "      <td>1365</td>\n",
       "      <td>1000</td>\n",
       "    </tr>\n",
       "    <tr>\n",
       "      <th>3</th>\n",
       "      <td>서울특별시</td>\n",
       "      <td>한이에너지(주)KLP제1주유소</td>\n",
       "      <td>서울특별시 도봉구  도봉로 596 (창동)</td>\n",
       "      <td>현대오일뱅크</td>\n",
       "      <td>02-902-5189</td>\n",
       "      <td>N</td>\n",
       "      <td>-</td>\n",
       "      <td>1480</td>\n",
       "      <td>1360</td>\n",
       "      <td>-</td>\n",
       "    </tr>\n",
       "    <tr>\n",
       "      <th>4</th>\n",
       "      <td>서울특별시</td>\n",
       "      <td>지에스칼텍스㈜ 방학동주유소</td>\n",
       "      <td>서울 도봉구 방학로 186</td>\n",
       "      <td>GS칼텍스</td>\n",
       "      <td>02-3493-5189</td>\n",
       "      <td>Y</td>\n",
       "      <td>1640</td>\n",
       "      <td>1480</td>\n",
       "      <td>1360</td>\n",
       "      <td>1000</td>\n",
       "    </tr>\n",
       "  </tbody>\n",
       "</table>\n",
       "</div>"
      ],
      "text/plain": [
       "      지역                상호                        주소      상표          전화번호  \\\n",
       "0  서울특별시   도봉제일주유소(주)송만에너지  서울특별시 도봉구  도봉로 783 (도봉동)  현대오일뱅크   02-955-5185   \n",
       "1  서울특별시         삼미북부셀프주유소  서울특별시 도봉구  도봉로 437 (쌍문동)   SK에너지   02-992-5561   \n",
       "2  서울특별시     지에스칼텍스㈜ 도봉주유소      서울 도봉구 도봉로 895 (도봉동)   GS칼텍스   02-954-0118   \n",
       "3  서울특별시  한이에너지(주)KLP제1주유소   서울특별시 도봉구  도봉로 596 (창동)  현대오일뱅크   02-902-5189   \n",
       "4  서울특별시    지에스칼텍스㈜ 방학동주유소            서울 도봉구 방학로 186   GS칼텍스  02-3493-5189   \n",
       "\n",
       "  셀프여부 고급휘발유   휘발유    경유  실내등유  \n",
       "0    N     -  1475  1355   990  \n",
       "1    Y     -  1476  1350  1000  \n",
       "2    Y  1720  1479  1365  1000  \n",
       "3    N     -  1480  1360     -  \n",
       "4    Y  1640  1480  1360  1000  "
      ]
     },
     "execution_count": 47,
     "metadata": {},
     "output_type": "execute_result"
    }
   ],
   "source": [
    "station_raw.head()"
   ]
  },
  {
   "cell_type": "code",
   "execution_count": 49,
   "metadata": {},
   "outputs": [
    {
     "data": {
      "text/html": [
       "<div>\n",
       "<style scoped>\n",
       "    .dataframe tbody tr th:only-of-type {\n",
       "        vertical-align: middle;\n",
       "    }\n",
       "\n",
       "    .dataframe tbody tr th {\n",
       "        vertical-align: top;\n",
       "    }\n",
       "\n",
       "    .dataframe thead th {\n",
       "        text-align: right;\n",
       "    }\n",
       "</style>\n",
       "<table border=\"1\" class=\"dataframe\">\n",
       "  <thead>\n",
       "    <tr style=\"text-align: right;\">\n",
       "      <th></th>\n",
       "      <th>Oil_store</th>\n",
       "      <th>주소</th>\n",
       "      <th>가격</th>\n",
       "      <th>셀프</th>\n",
       "      <th>상표</th>\n",
       "    </tr>\n",
       "  </thead>\n",
       "  <tbody>\n",
       "    <tr>\n",
       "      <th>0</th>\n",
       "      <td>도봉제일주유소(주)송만에너지</td>\n",
       "      <td>서울특별시 도봉구  도봉로 783 (도봉동)</td>\n",
       "      <td>1475</td>\n",
       "      <td>N</td>\n",
       "      <td>현대오일뱅크</td>\n",
       "    </tr>\n",
       "    <tr>\n",
       "      <th>1</th>\n",
       "      <td>삼미북부셀프주유소</td>\n",
       "      <td>서울특별시 도봉구  도봉로 437 (쌍문동)</td>\n",
       "      <td>1476</td>\n",
       "      <td>Y</td>\n",
       "      <td>SK에너지</td>\n",
       "    </tr>\n",
       "    <tr>\n",
       "      <th>2</th>\n",
       "      <td>지에스칼텍스㈜ 도봉주유소</td>\n",
       "      <td>서울 도봉구 도봉로 895 (도봉동)</td>\n",
       "      <td>1479</td>\n",
       "      <td>Y</td>\n",
       "      <td>GS칼텍스</td>\n",
       "    </tr>\n",
       "    <tr>\n",
       "      <th>3</th>\n",
       "      <td>한이에너지(주)KLP제1주유소</td>\n",
       "      <td>서울특별시 도봉구  도봉로 596 (창동)</td>\n",
       "      <td>1480</td>\n",
       "      <td>N</td>\n",
       "      <td>현대오일뱅크</td>\n",
       "    </tr>\n",
       "    <tr>\n",
       "      <th>4</th>\n",
       "      <td>지에스칼텍스㈜ 방학동주유소</td>\n",
       "      <td>서울 도봉구 방학로 186</td>\n",
       "      <td>1480</td>\n",
       "      <td>Y</td>\n",
       "      <td>GS칼텍스</td>\n",
       "    </tr>\n",
       "  </tbody>\n",
       "</table>\n",
       "</div>"
      ],
      "text/plain": [
       "          Oil_store                        주소    가격 셀프      상표\n",
       "0   도봉제일주유소(주)송만에너지  서울특별시 도봉구  도봉로 783 (도봉동)  1475  N  현대오일뱅크\n",
       "1         삼미북부셀프주유소  서울특별시 도봉구  도봉로 437 (쌍문동)  1476  Y   SK에너지\n",
       "2     지에스칼텍스㈜ 도봉주유소      서울 도봉구 도봉로 895 (도봉동)  1479  Y   GS칼텍스\n",
       "3  한이에너지(주)KLP제1주유소   서울특별시 도봉구  도봉로 596 (창동)  1480  N  현대오일뱅크\n",
       "4    지에스칼텍스㈜ 방학동주유소            서울 도봉구 방학로 186  1480  Y   GS칼텍스"
      ]
     },
     "execution_count": 49,
     "metadata": {},
     "output_type": "execute_result"
    }
   ],
   "source": [
    "stations = pd.DataFrame({'Oil_store':station_raw['상호'],\n",
    "                        '주소': station_raw['주소'],\n",
    "                        '가격': station_raw['휘발유'],\n",
    "                        '셀프': station_raw['셀프여부'],\n",
    "                        '상표': station_raw['상표']})\n",
    "\n",
    "stations.head()"
   ]
  },
  {
   "cell_type": "code",
   "execution_count": 51,
   "metadata": {},
   "outputs": [
    {
     "data": {
      "text/html": [
       "<div>\n",
       "<style scoped>\n",
       "    .dataframe tbody tr th:only-of-type {\n",
       "        vertical-align: middle;\n",
       "    }\n",
       "\n",
       "    .dataframe tbody tr th {\n",
       "        vertical-align: top;\n",
       "    }\n",
       "\n",
       "    .dataframe thead th {\n",
       "        text-align: right;\n",
       "    }\n",
       "</style>\n",
       "<table border=\"1\" class=\"dataframe\">\n",
       "  <thead>\n",
       "    <tr style=\"text-align: right;\">\n",
       "      <th></th>\n",
       "      <th>Oil_store</th>\n",
       "      <th>주소</th>\n",
       "      <th>가격</th>\n",
       "      <th>셀프</th>\n",
       "      <th>상표</th>\n",
       "      <th>구</th>\n",
       "    </tr>\n",
       "  </thead>\n",
       "  <tbody>\n",
       "    <tr>\n",
       "      <th>0</th>\n",
       "      <td>도봉제일주유소(주)송만에너지</td>\n",
       "      <td>서울특별시 도봉구  도봉로 783 (도봉동)</td>\n",
       "      <td>1475</td>\n",
       "      <td>N</td>\n",
       "      <td>현대오일뱅크</td>\n",
       "      <td>도봉구</td>\n",
       "    </tr>\n",
       "    <tr>\n",
       "      <th>1</th>\n",
       "      <td>삼미북부셀프주유소</td>\n",
       "      <td>서울특별시 도봉구  도봉로 437 (쌍문동)</td>\n",
       "      <td>1476</td>\n",
       "      <td>Y</td>\n",
       "      <td>SK에너지</td>\n",
       "      <td>도봉구</td>\n",
       "    </tr>\n",
       "    <tr>\n",
       "      <th>2</th>\n",
       "      <td>지에스칼텍스㈜ 도봉주유소</td>\n",
       "      <td>서울 도봉구 도봉로 895 (도봉동)</td>\n",
       "      <td>1479</td>\n",
       "      <td>Y</td>\n",
       "      <td>GS칼텍스</td>\n",
       "      <td>도봉구</td>\n",
       "    </tr>\n",
       "    <tr>\n",
       "      <th>3</th>\n",
       "      <td>한이에너지(주)KLP제1주유소</td>\n",
       "      <td>서울특별시 도봉구  도봉로 596 (창동)</td>\n",
       "      <td>1480</td>\n",
       "      <td>N</td>\n",
       "      <td>현대오일뱅크</td>\n",
       "      <td>도봉구</td>\n",
       "    </tr>\n",
       "    <tr>\n",
       "      <th>4</th>\n",
       "      <td>지에스칼텍스㈜ 방학동주유소</td>\n",
       "      <td>서울 도봉구 방학로 186</td>\n",
       "      <td>1480</td>\n",
       "      <td>Y</td>\n",
       "      <td>GS칼텍스</td>\n",
       "      <td>도봉구</td>\n",
       "    </tr>\n",
       "  </tbody>\n",
       "</table>\n",
       "</div>"
      ],
      "text/plain": [
       "          Oil_store                        주소    가격 셀프      상표    구\n",
       "0   도봉제일주유소(주)송만에너지  서울특별시 도봉구  도봉로 783 (도봉동)  1475  N  현대오일뱅크  도봉구\n",
       "1         삼미북부셀프주유소  서울특별시 도봉구  도봉로 437 (쌍문동)  1476  Y   SK에너지  도봉구\n",
       "2     지에스칼텍스㈜ 도봉주유소      서울 도봉구 도봉로 895 (도봉동)  1479  Y   GS칼텍스  도봉구\n",
       "3  한이에너지(주)KLP제1주유소   서울특별시 도봉구  도봉로 596 (창동)  1480  N  현대오일뱅크  도봉구\n",
       "4    지에스칼텍스㈜ 방학동주유소            서울 도봉구 방학로 186  1480  Y   GS칼텍스  도봉구"
      ]
     },
     "execution_count": 51,
     "metadata": {},
     "output_type": "execute_result"
    }
   ],
   "source": [
    "# 주소에서 구 이름만 추출 합니다. \n",
    "# 그래서 구별 주유 가격도 조사하겠습니다.\n",
    "# 주소 컬럼의 주소를 봤을 때 빈칸을 기준으로 분리(split)시키고 두 번째 단어를 선택하면 구 이름이 됨\n",
    "\n",
    "stations['구'] = [eachAddress.split()[1] for eachAddress in stations['주소']]\n",
    "stations.head()"
   ]
  },
  {
   "cell_type": "code",
   "execution_count": null,
   "metadata": {},
   "outputs": [],
   "source": []
  }
 ],
 "metadata": {
  "kernelspec": {
   "display_name": "Python 3",
   "language": "python",
   "name": "python3"
  },
  "language_info": {
   "codemirror_mode": {
    "name": "ipython",
    "version": 3
   },
   "file_extension": ".py",
   "mimetype": "text/x-python",
   "name": "python",
   "nbconvert_exporter": "python",
   "pygments_lexer": "ipython3",
   "version": "3.7.1"
  }
 },
 "nbformat": 4,
 "nbformat_minor": 2
}
